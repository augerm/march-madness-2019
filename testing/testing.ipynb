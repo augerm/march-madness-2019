{
 "cells": [
  {
   "cell_type": "code",
   "execution_count": 1,
   "metadata": {},
   "outputs": [],
   "source": [
    "%load_ext autoreload\n",
    "%autoreload 2"
   ]
  },
  {
   "cell_type": "code",
   "execution_count": null,
   "metadata": {},
   "outputs": [],
   "source": [
    "\n",
    "import pandas as pd\n",
    "import numpy as np\n",
    "input_file = '../data/NCAATourneySeeds.csv'\n",
    "regular_season_file = '../data/RegularSeasonCompactResults.csv'\n",
    "\n",
    "\n"
   ]
  },
  {
   "cell_type": "code",
   "execution_count": null,
   "metadata": {},
   "outputs": [],
   "source": [
    "data = pd.read_csv(regular_season_file)"
   ]
  },
  {
   "cell_type": "code",
   "execution_count": null,
   "metadata": {},
   "outputs": [],
   "source": [
    "data['teamA'] = data[['WTeamID', 'LTeamID']].min(axis = 1)\n",
    "data['teamB'] = data[['WTeamID', 'LTeamID']].max(axis = 1)\n"
   ]
  },
  {
   "cell_type": "code",
   "execution_count": null,
   "metadata": {},
   "outputs": [],
   "source": [
    "data.head()"
   ]
  },
  {
   "cell_type": "code",
   "execution_count": null,
   "metadata": {},
   "outputs": [],
   "source": [
    "# data['scoreA'] = data['teamA'].apply(lambda x:)\n",
    "data['scoreA'] = np.where(data['teamA'] == data['WTeamID'], data['WScore'], data['LScore'])\n",
    "data['scoreB'] = np.where(data['teamB'] == data['WTeamID'], data['WScore'], data['LScore'])\n",
    "data['day_num'] = data['DayNum']\n",
    "data['year'] = data['Season']\n",
    "data['result'] = np.where(data['scoreA'] > data['scoreB'], 1, 0)"
   ]
  },
  {
   "cell_type": "code",
   "execution_count": null,
   "metadata": {},
   "outputs": [],
   "source": [
    "data.head(10)"
   ]
  },
  {
   "cell_type": "code",
   "execution_count": null,
   "metadata": {},
   "outputs": [],
   "source": [
    "completed_match = data[['year','teamA','teamB','scoreA','scoreB','day_num', 'result']].to_dict('records')\n"
   ]
  },
  {
   "cell_type": "code",
   "execution_count": null,
   "metadata": {
    "scrolled": false
   },
   "outputs": [],
   "source": [
    "completed_match[5]"
   ]
  },
  {
   "cell_type": "markdown",
   "metadata": {},
   "source": [
    "# TRAIN.PY"
   ]
  },
  {
   "cell_type": "code",
   "execution_count": 2,
   "metadata": {},
   "outputs": [],
   "source": [
    "import sys\n",
    "sys.path.append(\"../\") # go to parent dir"
   ]
  },
  {
   "cell_type": "code",
   "execution_count": 5,
   "metadata": {},
   "outputs": [],
   "source": [
    "import tensorflow.keras as k\n",
    "from tensorflow.keras import metrics\n",
    "import numpy as np\n",
    "import datetime\n",
    "from modules.matchups import Matchups\n",
    "from modules.loss_function import get_loss_single"
   ]
  },
  {
   "cell_type": "code",
   "execution_count": 35,
   "metadata": {},
   "outputs": [
    {
     "name": "stdout",
     "output_type": "stream",
     "text": [
      "50 of 87641 games are not added due to missing data.\n"
     ]
    }
   ],
   "source": [
    "matchups = Matchups()\n",
    "completed_matchups = matchups.get_completed_matchups()\n",
    "train_x = list(map(lambda completed_matchup: completed_matchup.get_features(), completed_matchups))\n",
    "train_y = list(map(lambda completed_matchup: completed_matchup.result, completed_matchups))"
   ]
  },
  {
   "cell_type": "code",
   "execution_count": 36,
   "metadata": {},
   "outputs": [
    {
     "data": {
      "text/plain": [
       "((87591, 8), (87591,))"
      ]
     },
     "execution_count": 36,
     "metadata": {},
     "output_type": "execute_result"
    }
   ],
   "source": [
    "train_x = np.array(train_x)\n",
    "train_y = np.array(train_y)\n",
    "train_x.shape, train_y.shape"
   ]
  },
  {
   "cell_type": "code",
   "execution_count": 37,
   "metadata": {},
   "outputs": [
    {
     "data": {
      "text/plain": [
       "((10000, 8), (10000,))"
      ]
     },
     "execution_count": 37,
     "metadata": {},
     "output_type": "execute_result"
    }
   ],
   "source": [
    "train_x = train_x[:10000]\n",
    "train_y = train_y[:10000]\n",
    "train_x.shape, train_y.shape"
   ]
  },
  {
   "cell_type": "code",
   "execution_count": 19,
   "metadata": {},
   "outputs": [],
   "source": [
    "from scipy import stats\n",
    "# get statistics\n",
    "#stats.describe(train_x[:,3])\n"
   ]
  },
  {
   "cell_type": "code",
   "execution_count": 38,
   "metadata": {},
   "outputs": [
    {
     "name": "stdout",
     "output_type": "stream",
     "text": [
      "Epoch 1/40\n",
      "10000/10000 [==============================] - 16s 2ms/step - loss: 1.9234 - binary_accuracy: 0.5005\n",
      "Epoch 2/40\n",
      "10000/10000 [==============================] - 19s 2ms/step - loss: 0.6983 - binary_accuracy: 0.5018\n",
      "Epoch 3/40\n",
      "10000/10000 [==============================] - 21s 2ms/step - loss: 0.6989 - binary_accuracy: 0.4964\n",
      "Epoch 4/40\n",
      "10000/10000 [==============================] - 20s 2ms/step - loss: 0.7000 - binary_accuracy: 0.4930\n",
      "Epoch 5/40\n",
      "10000/10000 [==============================] - 22s 2ms/step - loss: 0.6989 - binary_accuracy: 0.5010\n",
      "Epoch 6/40\n",
      "10000/10000 [==============================] - 25s 2ms/step - loss: 0.6982 - binary_accuracy: 0.5060\n",
      "Epoch 7/40\n",
      "10000/10000 [==============================] - 24s 2ms/step - loss: 0.6991 - binary_accuracy: 0.4948\n",
      "Epoch 8/40\n",
      "10000/10000 [==============================] - 25s 3ms/step - loss: 0.6980 - binary_accuracy: 0.5083\n",
      "Epoch 9/40\n",
      "10000/10000 [==============================] - 29s 3ms/step - loss: 0.6995 - binary_accuracy: 0.5038\n",
      "Epoch 10/40\n",
      "10000/10000 [==============================] - 24s 2ms/step - loss: 0.6979 - binary_accuracy: 0.5041\n",
      "Epoch 11/40\n",
      "10000/10000 [==============================] - 23s 2ms/step - loss: 0.6988 - binary_accuracy: 0.5078\n",
      "Epoch 12/40\n",
      "10000/10000 [==============================] - 23s 2ms/step - loss: 0.6984 - binary_accuracy: 0.4975\n",
      "Epoch 13/40\n",
      "10000/10000 [==============================] - 24s 2ms/step - loss: 0.7002 - binary_accuracy: 0.5047\n",
      "Epoch 14/40\n",
      "10000/10000 [==============================] - 24s 2ms/step - loss: 0.6915 - binary_accuracy: 0.5371\n",
      "Epoch 15/40\n",
      "10000/10000 [==============================] - 21s 2ms/step - loss: 0.6736 - binary_accuracy: 0.6072\n",
      "Epoch 16/40\n",
      "10000/10000 [==============================] - 21s 2ms/step - loss: 0.6586 - binary_accuracy: 0.6269\n",
      "Epoch 17/40\n",
      "10000/10000 [==============================] - 20s 2ms/step - loss: 0.6313 - binary_accuracy: 0.6820\n",
      "Epoch 18/40\n",
      "10000/10000 [==============================] - 21s 2ms/step - loss: 0.5971 - binary_accuracy: 0.6865\n",
      "Epoch 19/40\n",
      "10000/10000 [==============================] - 21s 2ms/step - loss: 0.5987 - binary_accuracy: 0.6837\n",
      "Epoch 20/40\n",
      "10000/10000 [==============================] - 24s 2ms/step - loss: 0.5867 - binary_accuracy: 0.6957\n",
      "Epoch 21/40\n",
      "10000/10000 [==============================] - 25s 3ms/step - loss: 0.5852 - binary_accuracy: 0.6843\n",
      "Epoch 22/40\n",
      "10000/10000 [==============================] - 24s 2ms/step - loss: 0.5679 - binary_accuracy: 0.7017\n",
      "Epoch 23/40\n",
      "10000/10000 [==============================] - 25s 2ms/step - loss: 0.5763 - binary_accuracy: 0.7007\n",
      "Epoch 24/40\n",
      "10000/10000 [==============================] - 22s 2ms/step - loss: 0.5718 - binary_accuracy: 0.7055\n",
      "Epoch 25/40\n",
      "10000/10000 [==============================] - 20s 2ms/step - loss: 0.5667 - binary_accuracy: 0.7077\n",
      "Epoch 26/40\n",
      "10000/10000 [==============================] - 19s 2ms/step - loss: 0.5587 - binary_accuracy: 0.7126\n",
      "Epoch 27/40\n",
      "10000/10000 [==============================] - 18s 2ms/step - loss: 0.5565 - binary_accuracy: 0.7182\n",
      "Epoch 28/40\n",
      "10000/10000 [==============================] - 20s 2ms/step - loss: 0.5569 - binary_accuracy: 0.7138\n",
      "Epoch 29/40\n",
      "10000/10000 [==============================] - 23s 2ms/step - loss: 0.5566 - binary_accuracy: 0.7080\n",
      "Epoch 30/40\n",
      "10000/10000 [==============================] - 24s 2ms/step - loss: 0.5488 - binary_accuracy: 0.7185\n",
      "Epoch 31/40\n",
      "10000/10000 [==============================] - 22s 2ms/step - loss: 0.5548 - binary_accuracy: 0.7105\n",
      "Epoch 32/40\n",
      "10000/10000 [==============================] - 22s 2ms/step - loss: 0.5492 - binary_accuracy: 0.7199\n",
      "Epoch 33/40\n",
      "10000/10000 [==============================] - 23s 2ms/step - loss: 0.5432 - binary_accuracy: 0.7218\n",
      "Epoch 34/40\n",
      "10000/10000 [==============================] - 23s 2ms/step - loss: 0.5430 - binary_accuracy: 0.7193\n",
      "Epoch 35/40\n",
      "10000/10000 [==============================] - 26s 3ms/step - loss: 0.5390 - binary_accuracy: 0.7290\n",
      "Epoch 36/40\n",
      "10000/10000 [==============================] - 26s 3ms/step - loss: 0.5489 - binary_accuracy: 0.7181\n",
      "Epoch 37/40\n",
      "10000/10000 [==============================] - 25s 2ms/step - loss: 0.5467 - binary_accuracy: 0.7176\n",
      "Epoch 38/40\n",
      "10000/10000 [==============================] - 23s 2ms/step - loss: 0.5409 - binary_accuracy: 0.7149\n",
      "Epoch 39/40\n",
      "10000/10000 [==============================] - 19s 2ms/step - loss: 0.5398 - binary_accuracy: 0.7259\n",
      "Epoch 40/40\n",
      "10000/10000 [==============================] - 20s 2ms/step - loss: 0.5369 - binary_accuracy: 0.7250\n",
      "10000/10000 [==============================] - 6s 595us/step\n",
      "Test accuracy: 0.7498\n"
     ]
    },
    {
     "ename": "OSError",
     "evalue": "Unable to create file (unable to open file: name = 'keras_models/15-March-2019-03-46PM.h5', errno = 2, error message = 'No such file or directory', flags = 13, o_flags = 302)",
     "output_type": "error",
     "traceback": [
      "\u001b[1;31m-------------------------------------------------------------------\u001b[0m",
      "\u001b[1;31mOSError\u001b[0m                           Traceback (most recent call last)",
      "\u001b[1;32m<ipython-input-38-d92dcb173a72>\u001b[0m in \u001b[0;36m<module>\u001b[1;34m()\u001b[0m\n\u001b[0;32m     13\u001b[0m \u001b[1;33m\u001b[0m\u001b[0m\n\u001b[0;32m     14\u001b[0m \u001b[0mdate_str\u001b[0m \u001b[1;33m=\u001b[0m \u001b[0mstr\u001b[0m\u001b[1;33m(\u001b[0m\u001b[0mdatetime\u001b[0m\u001b[1;33m.\u001b[0m\u001b[0mdatetime\u001b[0m\u001b[1;33m.\u001b[0m\u001b[0mnow\u001b[0m\u001b[1;33m(\u001b[0m\u001b[1;33m)\u001b[0m\u001b[1;33m.\u001b[0m\u001b[0mstrftime\u001b[0m\u001b[1;33m(\u001b[0m\u001b[1;34m\"%d-%B-%Y-%I-%M%p\"\u001b[0m\u001b[1;33m)\u001b[0m\u001b[1;33m)\u001b[0m\u001b[1;33m\u001b[0m\u001b[0m\n\u001b[1;32m---> 15\u001b[1;33m \u001b[0mmodel\u001b[0m\u001b[1;33m.\u001b[0m\u001b[0msave\u001b[0m\u001b[1;33m(\u001b[0m\u001b[1;34m'keras_models/{}.h5'\u001b[0m\u001b[1;33m.\u001b[0m\u001b[0mformat\u001b[0m\u001b[1;33m(\u001b[0m\u001b[0mdate_str\u001b[0m\u001b[1;33m)\u001b[0m\u001b[1;33m)\u001b[0m\u001b[1;33m\u001b[0m\u001b[0m\n\u001b[0m",
      "\u001b[1;32m~\\Anaconda3\\lib\\site-packages\\tensorflow\\python\\keras\\engine\\network.py\u001b[0m in \u001b[0;36msave\u001b[1;34m(self, filepath, overwrite, include_optimizer)\u001b[0m\n\u001b[0;32m   1219\u001b[0m \u001b[1;33m\u001b[0m\u001b[0m\n\u001b[0;32m   1220\u001b[0m     \u001b[1;32mfrom\u001b[0m \u001b[0mtensorflow\u001b[0m\u001b[1;33m.\u001b[0m\u001b[0mpython\u001b[0m\u001b[1;33m.\u001b[0m\u001b[0mkeras\u001b[0m\u001b[1;33m.\u001b[0m\u001b[0mmodels\u001b[0m \u001b[1;32mimport\u001b[0m \u001b[0msave_model\u001b[0m  \u001b[1;31m# pylint: disable=g-import-not-at-top\u001b[0m\u001b[1;33m\u001b[0m\u001b[0m\n\u001b[1;32m-> 1221\u001b[1;33m     \u001b[0msave_model\u001b[0m\u001b[1;33m(\u001b[0m\u001b[0mself\u001b[0m\u001b[1;33m,\u001b[0m \u001b[0mfilepath\u001b[0m\u001b[1;33m,\u001b[0m \u001b[0moverwrite\u001b[0m\u001b[1;33m,\u001b[0m \u001b[0minclude_optimizer\u001b[0m\u001b[1;33m)\u001b[0m\u001b[1;33m\u001b[0m\u001b[0m\n\u001b[0m\u001b[0;32m   1222\u001b[0m \u001b[1;33m\u001b[0m\u001b[0m\n\u001b[0;32m   1223\u001b[0m   \u001b[1;32mdef\u001b[0m \u001b[0msave_weights\u001b[0m\u001b[1;33m(\u001b[0m\u001b[0mself\u001b[0m\u001b[1;33m,\u001b[0m \u001b[0mfilepath\u001b[0m\u001b[1;33m,\u001b[0m \u001b[0moverwrite\u001b[0m\u001b[1;33m=\u001b[0m\u001b[1;32mTrue\u001b[0m\u001b[1;33m,\u001b[0m \u001b[0msave_format\u001b[0m\u001b[1;33m=\u001b[0m\u001b[1;32mNone\u001b[0m\u001b[1;33m)\u001b[0m\u001b[1;33m:\u001b[0m\u001b[1;33m\u001b[0m\u001b[0m\n",
      "\u001b[1;32m~\\Anaconda3\\lib\\site-packages\\tensorflow\\python\\keras\\engine\\saving.py\u001b[0m in \u001b[0;36msave_model\u001b[1;34m(model, filepath, overwrite, include_optimizer)\u001b[0m\n\u001b[0;32m     87\u001b[0m         \u001b[1;32mreturn\u001b[0m\u001b[1;33m\u001b[0m\u001b[0m\n\u001b[0;32m     88\u001b[0m \u001b[1;33m\u001b[0m\u001b[0m\n\u001b[1;32m---> 89\u001b[1;33m     \u001b[0mf\u001b[0m \u001b[1;33m=\u001b[0m \u001b[0mh5py\u001b[0m\u001b[1;33m.\u001b[0m\u001b[0mFile\u001b[0m\u001b[1;33m(\u001b[0m\u001b[0mfilepath\u001b[0m\u001b[1;33m,\u001b[0m \u001b[0mmode\u001b[0m\u001b[1;33m=\u001b[0m\u001b[1;34m'w'\u001b[0m\u001b[1;33m)\u001b[0m\u001b[1;33m\u001b[0m\u001b[0m\n\u001b[0m\u001b[0;32m     90\u001b[0m     \u001b[0mopened_new_file\u001b[0m \u001b[1;33m=\u001b[0m \u001b[1;32mTrue\u001b[0m\u001b[1;33m\u001b[0m\u001b[0m\n\u001b[0;32m     91\u001b[0m   \u001b[1;32melse\u001b[0m\u001b[1;33m:\u001b[0m\u001b[1;33m\u001b[0m\u001b[0m\n",
      "\u001b[1;32m~\\Anaconda3\\lib\\site-packages\\h5py\\_hl\\files.py\u001b[0m in \u001b[0;36m__init__\u001b[1;34m(self, name, mode, driver, libver, userblock_size, swmr, **kwds)\u001b[0m\n\u001b[0;32m    267\u001b[0m             \u001b[1;32mwith\u001b[0m \u001b[0mphil\u001b[0m\u001b[1;33m:\u001b[0m\u001b[1;33m\u001b[0m\u001b[0m\n\u001b[0;32m    268\u001b[0m                 \u001b[0mfapl\u001b[0m \u001b[1;33m=\u001b[0m \u001b[0mmake_fapl\u001b[0m\u001b[1;33m(\u001b[0m\u001b[0mdriver\u001b[0m\u001b[1;33m,\u001b[0m \u001b[0mlibver\u001b[0m\u001b[1;33m,\u001b[0m \u001b[1;33m**\u001b[0m\u001b[0mkwds\u001b[0m\u001b[1;33m)\u001b[0m\u001b[1;33m\u001b[0m\u001b[0m\n\u001b[1;32m--> 269\u001b[1;33m                 \u001b[0mfid\u001b[0m \u001b[1;33m=\u001b[0m \u001b[0mmake_fid\u001b[0m\u001b[1;33m(\u001b[0m\u001b[0mname\u001b[0m\u001b[1;33m,\u001b[0m \u001b[0mmode\u001b[0m\u001b[1;33m,\u001b[0m \u001b[0muserblock_size\u001b[0m\u001b[1;33m,\u001b[0m \u001b[0mfapl\u001b[0m\u001b[1;33m,\u001b[0m \u001b[0mswmr\u001b[0m\u001b[1;33m=\u001b[0m\u001b[0mswmr\u001b[0m\u001b[1;33m)\u001b[0m\u001b[1;33m\u001b[0m\u001b[0m\n\u001b[0m\u001b[0;32m    270\u001b[0m \u001b[1;33m\u001b[0m\u001b[0m\n\u001b[0;32m    271\u001b[0m                 \u001b[1;32mif\u001b[0m \u001b[0mswmr_support\u001b[0m\u001b[1;33m:\u001b[0m\u001b[1;33m\u001b[0m\u001b[0m\n",
      "\u001b[1;32m~\\Anaconda3\\lib\\site-packages\\h5py\\_hl\\files.py\u001b[0m in \u001b[0;36mmake_fid\u001b[1;34m(name, mode, userblock_size, fapl, fcpl, swmr)\u001b[0m\n\u001b[0;32m    103\u001b[0m         \u001b[0mfid\u001b[0m \u001b[1;33m=\u001b[0m \u001b[0mh5f\u001b[0m\u001b[1;33m.\u001b[0m\u001b[0mcreate\u001b[0m\u001b[1;33m(\u001b[0m\u001b[0mname\u001b[0m\u001b[1;33m,\u001b[0m \u001b[0mh5f\u001b[0m\u001b[1;33m.\u001b[0m\u001b[0mACC_EXCL\u001b[0m\u001b[1;33m,\u001b[0m \u001b[0mfapl\u001b[0m\u001b[1;33m=\u001b[0m\u001b[0mfapl\u001b[0m\u001b[1;33m,\u001b[0m \u001b[0mfcpl\u001b[0m\u001b[1;33m=\u001b[0m\u001b[0mfcpl\u001b[0m\u001b[1;33m)\u001b[0m\u001b[1;33m\u001b[0m\u001b[0m\n\u001b[0;32m    104\u001b[0m     \u001b[1;32melif\u001b[0m \u001b[0mmode\u001b[0m \u001b[1;33m==\u001b[0m \u001b[1;34m'w'\u001b[0m\u001b[1;33m:\u001b[0m\u001b[1;33m\u001b[0m\u001b[0m\n\u001b[1;32m--> 105\u001b[1;33m         \u001b[0mfid\u001b[0m \u001b[1;33m=\u001b[0m \u001b[0mh5f\u001b[0m\u001b[1;33m.\u001b[0m\u001b[0mcreate\u001b[0m\u001b[1;33m(\u001b[0m\u001b[0mname\u001b[0m\u001b[1;33m,\u001b[0m \u001b[0mh5f\u001b[0m\u001b[1;33m.\u001b[0m\u001b[0mACC_TRUNC\u001b[0m\u001b[1;33m,\u001b[0m \u001b[0mfapl\u001b[0m\u001b[1;33m=\u001b[0m\u001b[0mfapl\u001b[0m\u001b[1;33m,\u001b[0m \u001b[0mfcpl\u001b[0m\u001b[1;33m=\u001b[0m\u001b[0mfcpl\u001b[0m\u001b[1;33m)\u001b[0m\u001b[1;33m\u001b[0m\u001b[0m\n\u001b[0m\u001b[0;32m    106\u001b[0m     \u001b[1;32melif\u001b[0m \u001b[0mmode\u001b[0m \u001b[1;33m==\u001b[0m \u001b[1;34m'a'\u001b[0m\u001b[1;33m:\u001b[0m\u001b[1;33m\u001b[0m\u001b[0m\n\u001b[0;32m    107\u001b[0m         \u001b[1;31m# Open in append mode (read/write).\u001b[0m\u001b[1;33m\u001b[0m\u001b[1;33m\u001b[0m\u001b[0m\n",
      "\u001b[1;32mh5py\\_objects.pyx\u001b[0m in \u001b[0;36mh5py._objects.with_phil.wrapper\u001b[1;34m()\u001b[0m\n",
      "\u001b[1;32mh5py\\_objects.pyx\u001b[0m in \u001b[0;36mh5py._objects.with_phil.wrapper\u001b[1;34m()\u001b[0m\n",
      "\u001b[1;32mh5py\\h5f.pyx\u001b[0m in \u001b[0;36mh5py.h5f.create\u001b[1;34m()\u001b[0m\n",
      "\u001b[1;31mOSError\u001b[0m: Unable to create file (unable to open file: name = 'keras_models/15-March-2019-03-46PM.h5', errno = 2, error message = 'No such file or directory', flags = 13, o_flags = 302)"
     ]
    }
   ],
   "source": [
    "model = k.Sequential()\n",
    "model.add(k.layers.Dense(len(train_x), input_dim=len(train_x[0]), activation='sigmoid'))\n",
    "model.add(k.layers.Dense(600, activation='sigmoid'))\n",
    "model.add(k.layers.Dense(1, activation='sigmoid'))\n",
    "\n",
    "# optimizer - sgd, rmsprop\n",
    "model.compile(loss='binary_crossentropy', optimizer='rmsprop', metrics=[metrics.binary_accuracy])\n",
    "model.fit(np.array(train_x), np.array(train_y), epochs=40, batch_size=100)\n",
    "\n",
    "test_loss, test_acc = model.evaluate(np.array(train_x), np.array(train_y))\n",
    "\n",
    "print('Test accuracy:', test_acc)\n",
    "\n",
    "date_str = str(datetime.datetime.now().strftime(\"%d-%B-%Y-%I-%M%p\"))\n",
    "model.save('keras_models/{}.h5'.format(date_str))\n"
   ]
  },
  {
   "cell_type": "code",
   "execution_count": 39,
   "metadata": {},
   "outputs": [],
   "source": [
    "import tensorflow"
   ]
  },
  {
   "cell_type": "code",
   "execution_count": 40,
   "metadata": {},
   "outputs": [
    {
     "data": {
      "text/plain": [
       "'1.9.0'"
      ]
     },
     "execution_count": 40,
     "metadata": {},
     "output_type": "execute_result"
    }
   ],
   "source": []
  },
  {
   "cell_type": "code",
   "execution_count": 1,
   "metadata": {},
   "outputs": [
    {
     "name": "stdout",
     "output_type": "stream",
     "text": [
      "hi\n"
     ]
    },
    {
     "ename": "ValueError",
     "evalue": "omg",
     "output_type": "error",
     "traceback": [
      "\u001b[1;31m---------------------------------------------------------------------------\u001b[0m",
      "\u001b[1;31mValueError\u001b[0m                                Traceback (most recent call last)",
      "\u001b[1;32m<ipython-input-1-ec26af4999ef>\u001b[0m in \u001b[0;36m<module>\u001b[1;34m\u001b[0m\n\u001b[0;32m      1\u001b[0m \u001b[1;32mtry\u001b[0m\u001b[1;33m:\u001b[0m\u001b[1;33m\u001b[0m\u001b[1;33m\u001b[0m\u001b[0m\n\u001b[1;32m----> 2\u001b[1;33m     \u001b[1;32mraise\u001b[0m \u001b[0mValueError\u001b[0m\u001b[1;33m(\u001b[0m\u001b[1;34m\"omg\"\u001b[0m\u001b[1;33m)\u001b[0m\u001b[1;33m\u001b[0m\u001b[1;33m\u001b[0m\u001b[0m\n\u001b[0m\u001b[0;32m      3\u001b[0m \u001b[1;32mfinally\u001b[0m\u001b[1;33m:\u001b[0m\u001b[1;33m\u001b[0m\u001b[1;33m\u001b[0m\u001b[0m\n\u001b[0;32m      4\u001b[0m     \u001b[0mprint\u001b[0m\u001b[1;33m(\u001b[0m\u001b[1;34m\"hi\"\u001b[0m\u001b[1;33m)\u001b[0m\u001b[1;33m\u001b[0m\u001b[1;33m\u001b[0m\u001b[0m\n",
      "\u001b[1;31mValueError\u001b[0m: omg"
     ]
    }
   ],
   "source": [
    "try:\n",
    "    raise ValueError(\"omg\")\n",
    "finally:\n",
    "    print(\"hi\")"
   ]
  },
  {
   "cell_type": "code",
   "execution_count": null,
   "metadata": {},
   "outputs": [],
   "source": []
  }
 ],
 "metadata": {
  "kernelspec": {
   "display_name": "Python 3",
   "language": "python",
   "name": "python3"
  },
  "language_info": {
   "codemirror_mode": {
    "name": "ipython",
    "version": 3
   },
   "file_extension": ".py",
   "mimetype": "text/x-python",
   "name": "python",
   "nbconvert_exporter": "python",
   "pygments_lexer": "ipython3",
   "version": "3.7.1"
  }
 },
 "nbformat": 4,
 "nbformat_minor": 2
}
